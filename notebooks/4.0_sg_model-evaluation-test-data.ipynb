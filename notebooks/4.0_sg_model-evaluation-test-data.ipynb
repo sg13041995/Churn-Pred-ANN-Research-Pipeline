{
 "cells": [
  {
   "cell_type": "markdown",
   "metadata": {},
   "source": [
    "## Model evaluation on the test data"
   ]
  },
  {
   "cell_type": "code",
   "execution_count": null,
   "metadata": {},
   "outputs": [],
   "source": [
    "# evaluate the model\n",
    "scores = model.evaluate(X_test_transformed, y_test)\n",
    "print(f\"{model.metrics_names[1]} - {scores[1]*100}\")"
   ]
  },
  {
   "cell_type": "code",
   "execution_count": null,
   "metadata": {},
   "outputs": [],
   "source": [
    "# evaluate using predict function and external evaluation metric\n",
    "y_pred = model.predict(X_test_transformed)\n",
    "print(\"\\nPredictions as probability:\\n\", y_pred[:10])\n",
    "\n",
    "y_pred_class = []\n",
    "\n",
    "for val in y_pred:\n",
    "  if (val >= 0.5):\n",
    "    y_pred_class.append(1)\n",
    "  else:\n",
    "    y_pred_class.append(0)\n",
    "\n",
    "print(\"\\nPredictions as class:\\n\", y_pred_class[:10])\n",
    "\n",
    "print(\"\\nAccuracy score:\\n\", accuracy_score(y_test, y_pred_class)*100)"
   ]
  }
 ],
 "metadata": {
  "language_info": {
   "name": "python"
  }
 },
 "nbformat": 4,
 "nbformat_minor": 2
}
