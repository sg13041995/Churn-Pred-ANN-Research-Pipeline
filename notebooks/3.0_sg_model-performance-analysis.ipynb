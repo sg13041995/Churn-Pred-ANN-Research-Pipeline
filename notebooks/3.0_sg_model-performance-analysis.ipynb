{
 "cells": [
  {
   "cell_type": "markdown",
   "metadata": {},
   "source": [
    "## Module imports"
   ]
  },
  {
   "cell_type": "code",
   "execution_count": 1,
   "metadata": {},
   "outputs": [],
   "source": [
    "import pandas as pd\n",
    "import json\n",
    "import matplotlib.pyplot as plt\n",
    "import seaborn as sns\n",
    "import os\n",
    "\n",
    "import warnings\n",
    "warnings.filterwarnings(\"ignore\")"
   ]
  },
  {
   "cell_type": "markdown",
   "metadata": {},
   "source": [
    "## Looking for available models"
   ]
  },
  {
   "cell_type": "code",
   "execution_count": 4,
   "metadata": {},
   "outputs": [],
   "source": [
    "# Directory paths\n",
    "\n",
    "notebook_directory = \"e:\\\\LFS\\\\Projects\\\\DS_AI_ML_DL\\\\ML\\\\DL Experimentation Pipeline\\\\notebooks\"\n",
    "models_directory = \"e:\\\\LFS\\\\Projects\\\\DS_AI_ML_DL\\\\ML\\\\DL Experimentation Pipeline\\\\models\"\n",
    "reports_directory = \"e:\\\\LFS\\\\Projects\\\\DS_AI_ML_DL\\\\ML\\\\DL Experimentation Pipeline\\\\reports\""
   ]
  },
  {
   "cell_type": "code",
   "execution_count": 5,
   "metadata": {},
   "outputs": [
    {
     "name": "stdout",
     "output_type": "stream",
     "text": [
      "['Model 1.0']\n"
     ]
    }
   ],
   "source": [
    "# Read the list of models available\n",
    "\n",
    "list_of_models = list()\n",
    "\n",
    "os.chdir(models_directory)\n",
    "\n",
    "list_of_dir = os.listdir()\n",
    "\n",
    "for i in list_of_dir:\n",
    "    if (i.startswith(\"Model \")):\n",
    "        list_of_models.append(i)\n",
    "\n",
    "print(list_of_models)\n",
    "\n",
    "os.chdir(notebook_directory)"
   ]
  },
  {
   "cell_type": "markdown",
   "metadata": {},
   "source": [
    "## Reading and analysing the data of a single model"
   ]
  },
  {
   "cell_type": "markdown",
   "metadata": {},
   "source": [
    "### Model 1.0"
   ]
  },
  {
   "cell_type": "code",
   "execution_count": null,
   "metadata": {},
   "outputs": [],
   "source": []
  },
  {
   "cell_type": "markdown",
   "metadata": {},
   "source": [
    "## Reading and analysing the data of multiple models"
   ]
  },
  {
   "cell_type": "code",
   "execution_count": 23,
   "metadata": {},
   "outputs": [],
   "source": [
    "# Read the history of all the models in a single dictionary\n",
    "\n",
    "os.chdir(reports_directory)\n",
    "\n",
    "history_of_models = dict()\n",
    "\n",
    "for i in list_of_models:\n",
    "    with open(f'{i}/{i.lower().replace(\" \",\"_\")}_history.json') as f:\n",
    "        model_history = json.load(f)\n",
    "        history_of_models[i] = model_history"
   ]
  },
  {
   "cell_type": "code",
   "execution_count": null,
   "metadata": {},
   "outputs": [],
   "source": [
    "# Structure of a single model history\n",
    "\n",
    "print(history_of_models[list_of_models[0]].keys())\n",
    "\n",
    "print(history_of_models[list_of_models[0]][\"val_loss\"][:10])\n",
    "print(history_of_models[list_of_models[0]][\"val_accuracy\"][:10])\n",
    "\n",
    "print(history_of_models[list_of_models[0]][\"loss\"][:10])\n",
    "print(history_of_models[list_of_models[0]][\"accuracy\"][:10])"
   ]
  },
  {
   "cell_type": "code",
   "execution_count": null,
   "metadata": {},
   "outputs": [],
   "source": [
    "# Validation accuracy of different models (Messy, not really clear)\n",
    "\n",
    "plt.figure(figsize=(12,6))\n",
    "\n",
    "for i in list_of_models:\n",
    "    plt.plot(history_of_models[i][\"val_accuracy\"], label=i, linestyle='-', linewidth=2)\n",
    "\n",
    "plt.title('Validation accuracy of different models')\n",
    "plt.xlabel('Epochs')\n",
    "plt.ylabel('Validation accuracy')\n",
    "plt.legend()\n",
    "plt.grid(which='both', linestyle=':', linewidth='0.5', color='gray', alpha=0.7)\n",
    "plt.minorticks_on()"
   ]
  },
  {
   "cell_type": "code",
   "execution_count": 37,
   "metadata": {},
   "outputs": [],
   "source": [
    "# Creating empty dataframe with index length 1-200\n",
    "\n",
    "models_val_accuracy_df = pd.DataFrame()\n",
    "models_val_accuracy_df.index = range(1,201)"
   ]
  },
  {
   "cell_type": "code",
   "execution_count": null,
   "metadata": {},
   "outputs": [],
   "source": [
    "# Inserting the models validation accuracy data into the dataframe\n",
    "\n",
    "for i in list_of_models:\n",
    "    data = history_of_models[i][\"val_accuracy\"]\n",
    "\n",
    "    # Adjusting the uneven lenth with Null values\n",
    "    data = data + [None] * (200 - len(data))\n",
    "    \n",
    "    # Inserting the data in different columns\n",
    "    models_val_accuracy_df[i] = data\n",
    "\n",
    "models_val_accuracy_df"
   ]
  },
  {
   "cell_type": "code",
   "execution_count": null,
   "metadata": {},
   "outputs": [],
   "source": [
    "models_val_accuracy_df.describe()"
   ]
  }
 ],
 "metadata": {
  "kernelspec": {
   "display_name": "Python 3",
   "language": "python",
   "name": "python3"
  },
  "language_info": {
   "codemirror_mode": {
    "name": "ipython",
    "version": 3
   },
   "file_extension": ".py",
   "mimetype": "text/x-python",
   "name": "python",
   "nbconvert_exporter": "python",
   "pygments_lexer": "ipython3",
   "version": "3.10.11"
  }
 },
 "nbformat": 4,
 "nbformat_minor": 2
}
