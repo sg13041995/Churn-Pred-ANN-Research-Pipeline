{
 "cells": [
  {
   "cell_type": "markdown",
   "metadata": {},
   "source": [
    "## Module imports"
   ]
  },
  {
   "cell_type": "code",
   "execution_count": 1,
   "metadata": {},
   "outputs": [
    {
     "name": "stdout",
     "output_type": "stream",
     "text": [
      "WARNING:tensorflow:From c:\\Users\\hp\\AppData\\Local\\Programs\\Python\\Python310\\lib\\site-packages\\keras\\src\\losses.py:2976: The name tf.losses.sparse_softmax_cross_entropy is deprecated. Please use tf.compat.v1.losses.sparse_softmax_cross_entropy instead.\n",
      "\n"
     ]
    }
   ],
   "source": [
    "import warnings\n",
    "warnings.filterwarnings(\"ignore\")\n",
    "\n",
    "import os\n",
    "import shutil\n",
    "import json\n",
    "from contextlib import redirect_stdout\n",
    "\n",
    "from tensorflow.keras.models import model_from_json"
   ]
  },
  {
   "cell_type": "markdown",
   "metadata": {},
   "source": [
    "## Utility Functions"
   ]
  },
  {
   "cell_type": "markdown",
   "metadata": {},
   "source": [
    "### Utility Function - `trainable_parameters_count`\n"
   ]
  },
  {
   "cell_type": "code",
   "execution_count": null,
   "metadata": {},
   "outputs": [],
   "source": [
    "def trainable_parameters_count(layers):\n",
    "\n",
    "  params = {\n",
    "      \"input params\" :  layers[\"input\"],\n",
    "      \"hidden 1 params\" : (layers[\"input\"] * layers[\"hidden 1\"]) + layers[\"hidden 1\"],\n",
    "      \"output params\" : 0,\n",
    "  }\n",
    "\n",
    "  all_layers = set(layers.keys())\n",
    "  remaining_hidden_layers = set()\n",
    "\n",
    "  for layer_keys in layers.keys():\n",
    "    all_layers.add(layer_keys)\n",
    "\n",
    "  remaining_hidden_layers = all_layers - set((\"input\", \"output\", \"hidden 1\"))\n",
    "\n",
    "  # print(all_layers, hidden_layers)\n",
    "\n",
    "  if (len(remaining_hidden_layers) > 0):\n",
    "    for i, _ in enumerate(remaining_hidden_layers, 2):\n",
    "      params[f\"hidden {i} params\"] = (layers[f\"hidden {i-1}\"] * layers[f\"hidden {i}\"]) + layers[f\"hidden {i}\"]\n",
    "\n",
    "  params[\"output params\"] = (layers[f\"hidden {len(remaining_hidden_layers) + 1}\"] * layers[\"output\"]) + layers[\"output\"]\n",
    "\n",
    "  print(params)\n",
    "  print(f\"Total trainable params = {(sum(params.values())) - (params['input params'])}\")"
   ]
  },
  {
   "cell_type": "code",
   "execution_count": null,
   "metadata": {},
   "outputs": [
    {
     "name": "stdout",
     "output_type": "stream",
     "text": [
      "{'input params': 11, 'hidden 1 params': 132, 'output params': 12, 'hidden 2 params': 132}\n",
      "Total trainable params = 276\n"
     ]
    }
   ],
   "source": [
    "layer_nodes_count = {\n",
    "    \"input\" : 11,\n",
    "    \"hidden 1\" : 11,\n",
    "    \"hidden 2\" : 11,\n",
    "    \"output\" : 1\n",
    "}\n",
    "\n",
    "trainable_parameters_count(layer_nodes_count)"
   ]
  },
  {
   "cell_type": "markdown",
   "metadata": {},
   "source": [
    "### Utility Function 2 - `import_export_model`"
   ]
  },
  {
   "cell_type": "code",
   "execution_count": null,
   "metadata": {},
   "outputs": [],
   "source": [
    "def import_export_model(model,\n",
    "                        model_path=\"model_1.json\",\n",
    "                        params_path=\"model_1_params.h5\",\n",
    "                        is_export = True,\n",
    "                        is_import = False,\n",
    "                        architecture = True,\n",
    "                        params = True):\n",
    "\n",
    "  if is_export:\n",
    "    if architecture:\n",
    "      # keras model to json\n",
    "      model_json = model.to_json()\n",
    "      # export json into a file\n",
    "      with open(model_path, \"w\") as json_file:\n",
    "        json_file.write(model_json)\n",
    "\n",
    "    if params:\n",
    "    # serialize weights to HDF5\n",
    "      model.save_weights(params_path)\n",
    "\n",
    "  if is_import:\n",
    "    if architecture:\n",
    "      # load json and create model\n",
    "      with open(model_path, 'r') as json_file:\n",
    "        loaded_model_json = json_file.read()\n",
    "\n",
    "      model = model_from_json(loaded_model_json)\n",
    "\n",
    "    if params:\n",
    "      # load weights into new model\n",
    "      model.load_weights(\"model_params.h5\")\n",
    "\n",
    "    return model"
   ]
  },
  {
   "cell_type": "markdown",
   "metadata": {},
   "source": [
    "### Utility Function 3 - `folder_exists`"
   ]
  },
  {
   "cell_type": "code",
   "execution_count": null,
   "metadata": {},
   "outputs": [],
   "source": [
    "def folder_exists(directory, folder_name):\n",
    "    folder_path = os.path.join(directory, folder_name)\n",
    "    return os.path.exists(folder_path) and os.path.isdir(folder_path)"
   ]
  },
  {
   "cell_type": "markdown",
   "metadata": {},
   "source": [
    "### Utility Function 4 - `zip_n_download`"
   ]
  },
  {
   "cell_type": "code",
   "execution_count": null,
   "metadata": {},
   "outputs": [],
   "source": [
    "def zip_n_download(directory, folder_name, zip_file_name):\n",
    "  folder_path = os.path.join(directory, folder_name)\n",
    "\n",
    "  # Zip the folder\n",
    "  shutil.make_archive(zip_file_name, 'zip', folder_path)\n",
    "\n",
    "  if os.getcwd() == \"/content\":\n",
    "    # Download the zip file\n",
    "    files.download(f\"{zip_file_name}.zip\")"
   ]
  },
  {
   "cell_type": "markdown",
   "metadata": {},
   "source": [
    "### Utility Function 5 - `export_arch_params`"
   ]
  },
  {
   "cell_type": "code",
   "execution_count": null,
   "metadata": {},
   "outputs": [],
   "source": [
    "def export_arch_params(CURRENT_DIR, new_dir, model_number, model, is_export=True, is_import=False):\n",
    "\n",
    "    if (os.getcwd() == CURRENT_DIR):\n",
    "        os.chdir(new_dir)\n",
    "\n",
    "        model_path = f\"model_{model_number}_architectute.json\"\n",
    "        params_path = f\"model_{model_number}_params.h5\"\n",
    "\n",
    "        import_export_model(model,\n",
    "                            model_path=model_path,\n",
    "                            params_path=params_path,\n",
    "                            is_export=is_export,\n",
    "                            is_import=is_import)\n",
    "\n",
    "        os.chdir(\"..\")\n",
    "\n",
    "    else:\n",
    "        print(\"Current directory not matching...\")\n",
    "        print(\"Model won't be exported\")\n",
    "        print(f\"Present working directory: {os.getcwd()}\")\n",
    "\n",
    "    if (os.getcwd() == CURRENT_DIR):\n",
    "        print(\"You are back to Home directory...\")\n",
    "    else:\n",
    "        print(\"WARNING!!!\")\n",
    "        print(\"You are not in your home directory\")\n",
    "        print(f\"Present working directory: {os.getcwd()}\")"
   ]
  },
  {
   "cell_type": "markdown",
   "metadata": {},
   "source": [
    "### Utility Function 6 - `export_history_json`"
   ]
  },
  {
   "cell_type": "code",
   "execution_count": null,
   "metadata": {},
   "outputs": [],
   "source": [
    "def export_history_json(CURRENT_DIR, new_dir, model_number, history_data):\n",
    "    history_file_path = f\"model_{model_number}_history.json\"\n",
    "    data = history_data\n",
    "\n",
    "    if (os.getcwd() == CURRENT_DIR):\n",
    "        os.chdir(new_dir)\n",
    "\n",
    "        # Write the Model History to a JSON file\n",
    "        with open(history_file_path, \"w\") as json_file:\n",
    "            json.dump(data, json_file, indent=4)\n",
    "\n",
    "        os.chdir(\"..\")\n",
    "    else:\n",
    "        print(\"Current directory not matching...\")\n",
    "        print(\"History won't be exported\")\n",
    "        print(f\"Present working directory: {os.getcwd()}\")\n",
    "\n",
    "    if (os.getcwd() == CURRENT_DIR):\n",
    "        print(\"You are back to Home directory...\")\n",
    "    else:\n",
    "        print(\"WARNING!!!\")\n",
    "        print(\"You are not in your home directory\")\n",
    "        print(f\"Present working directory: {os.getcwd()}\")"
   ]
  },
  {
   "cell_type": "markdown",
   "metadata": {},
   "source": [
    "### Utility Function 7 - `export_model_config`"
   ]
  },
  {
   "cell_type": "code",
   "execution_count": null,
   "metadata": {},
   "outputs": [],
   "source": [
    "def export_model_config(CURRENT_DIR, new_dir, model_number, model_config_profile_data):\n",
    "\n",
    "    configuration_file_path = f\"model_{model_number}_config.json\"\n",
    "    data = model_config_profile_data\n",
    "\n",
    "    if (os.getcwd() == CURRENT_DIR):\n",
    "        os.chdir(new_dir)\n",
    "\n",
    "        # Write the Model History to a JSON file\n",
    "        with open(configuration_file_path, \"w\") as json_file:\n",
    "            json.dump(data, json_file, indent=4)\n",
    "\n",
    "        os.chdir(\"..\")\n",
    "    else:\n",
    "        print(\"Current directory not matching...\")\n",
    "        print(\"Configuration won't be exported\")\n",
    "        print(f\"Present working directory: {os.getcwd()}\")\n",
    "\n",
    "    if (os.getcwd() == CURRENT_DIR):\n",
    "        print(\"You are back to Home directory...\")\n",
    "    else:\n",
    "        print(\"WARNING!!!\")\n",
    "        print(\"You are not in your home directory\")\n",
    "        print(f\"Present working directory: {os.getcwd()}\")"
   ]
  },
  {
   "cell_type": "markdown",
   "metadata": {},
   "source": [
    "### Utility Function 8 - `export_model_summary`"
   ]
  },
  {
   "cell_type": "code",
   "execution_count": null,
   "metadata": {},
   "outputs": [],
   "source": [
    "def export_model_summary(CURRENT_DIR, new_dir, model_number, model):\n",
    "    # Define file path for saving the summary\n",
    "    summary_file = f\"model_{model_number}_summary.txt\"\n",
    "\n",
    "    if (os.getcwd() == CURRENT_DIR):\n",
    "        os.chdir(new_dir)\n",
    "\n",
    "        # Open a file for writing the summary\n",
    "        with open(summary_file, \"w\") as f:\n",
    "            # Redirect stdout to the file\n",
    "            with redirect_stdout(f):\n",
    "                # Print the model summary\n",
    "                model.summary()\n",
    "        os.chdir(\"..\")\n",
    "\n",
    "    else:\n",
    "        print(\"Current directory not matching...\")\n",
    "        print(\"Model summary won't be exported\")\n",
    "        print(f\"Present working directory: {os.getcwd()}\")\n",
    "\n",
    "    if (os.getcwd() == CURRENT_DIR):\n",
    "        print(\"You are back to Home directory...\")\n",
    "    else:\n",
    "        print(\"WARNING!!!\")\n",
    "        print(\"You are not in your home directory\")\n",
    "        print(f\"Present working directory: {os.getcwd()}\")"
   ]
  },
  {
   "cell_type": "markdown",
   "metadata": {},
   "source": [
    "### Utility Function 9 - `export_model_update_details`"
   ]
  },
  {
   "cell_type": "code",
   "execution_count": null,
   "metadata": {},
   "outputs": [],
   "source": [
    "def export_model_update_details(CURRENT_DIR, new_dir, model_number, model_update_details):\n",
    "# Define file path for saving the summary\n",
    "    model_update_details_file = f\"model_{model_number}_update_details.txt\"\n",
    "\n",
    "    if (os.getcwd() == CURRENT_DIR):\n",
    "        os.chdir(new_dir)\n",
    "\n",
    "        # Open a file for writing the summary\n",
    "        with open(model_update_details_file, \"w\") as f:\n",
    "            f.write(model_update_details)\n",
    "        os.chdir(\"..\")\n",
    "\n",
    "    else:\n",
    "        print(\"Current directory not matching...\")\n",
    "        print(\"Model update details won't be exported\")\n",
    "        print(f\"Present working directory: {os.getcwd()}\")\n",
    "\n",
    "    if (os.getcwd() == CURRENT_DIR):\n",
    "        print(\"You are back to Home directory...\")\n",
    "    else:\n",
    "        print(\"WARNING!!!\")\n",
    "        print(\"You are not in your home directory\")\n",
    "        print(f\"Present working directory: {os.getcwd()}\")"
   ]
  }
 ],
 "metadata": {
  "kernelspec": {
   "display_name": "Python 3",
   "language": "python",
   "name": "python3"
  },
  "language_info": {
   "codemirror_mode": {
    "name": "ipython",
    "version": 3
   },
   "file_extension": ".py",
   "mimetype": "text/x-python",
   "name": "python",
   "nbconvert_exporter": "python",
   "pygments_lexer": "ipython3",
   "version": "3.10.11"
  }
 },
 "nbformat": 4,
 "nbformat_minor": 2
}
